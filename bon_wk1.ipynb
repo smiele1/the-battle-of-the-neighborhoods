{
 "cells": [
  {
   "cell_type": "markdown",
   "metadata": {},
   "source": [
    "# The Battle of the Neighborhoods: San Francisco"
   ]
  },
  {
   "cell_type": "markdown",
   "metadata": {},
   "source": [
    "### Background"
   ]
  },
  {
   "cell_type": "markdown",
   "metadata": {},
   "source": [
    "San Francisco, California is consistently ranked as one of the best cities for finding a new job. However, it is also one of the most expensive cities in the United States. Many young professionals moving there will not have the savings necessary to purchase real estate. Instead, they will likely rent. Additionally, even those further along into their career may prefer to rent rather than make the commitment of buying a home, especially if they do not plan to stay in San Francisco in the long term.\n",
    "\n",
    "In this project, I will explore the neighborhoods of San Francisco. I want to find which neighborhoods have the cheapest rent, and which have attractive venues nearby so newcomers will not have to sacrifice entertainment and convenience for cheaper rent. I will use the Foursquare API's \"explore\" function to get the recommended venues around each neighborhood. I plan to examine not only the amount of nearby venues, but also the types of venues for each neighborhood to ascertain that neighborhood's desirability.\n",
    "\n",
    "In short, my goal is to find the most desirable neighborhood for renters in San Francisco based on both average rent and popular surrounding venues."
   ]
  },
  {
   "cell_type": "markdown",
   "metadata": {},
   "source": [
    "### Data"
   ]
  },
  {
   "cell_type": "markdown",
   "metadata": {},
   "source": [
    "1. __[RENTCafé's San Francisco, CA Rental Market Trends](https://www.rentcafe.com/average-rent-market-trends/us/ca/san-francisco/)__:\n",
    "\n",
    "    RENTCafé tracks trends in the rental market such as overall average rent, year-over-year change, and average apartment size. In particular, I am interested in the table titled \"Average Rent in San Francisco, CA By Neighborhood,\" which I will web scrape for my project to determine the cheapest neighborhoods in San Francisco.\n",
    "\n",
    "\n",
    "2. __Foursquare API__:\n",
    "\n",
    "    After web scraping to find the average rent in each neighborhood, I will use the Foursquare API to get the recommended surrounding venues for each of the cheaper neighborhoods. From this data, I can also pull the categories to see the types of venues in each neighborhood. I am looking not only for a neighborhood with many venues, but with diverse types of venues (for example, a neighborhood that contains multiple grocery stores may not be as desirable as one that contains fewer grocery stores, multiple restaurants, and a museum). Based on this, I will make a suggestion regarding the best neighborhood for renters."
   ]
  },
  {
   "cell_type": "code",
   "execution_count": null,
   "metadata": {},
   "outputs": [],
   "source": []
  }
 ],
 "metadata": {
  "kernelspec": {
   "display_name": "Python 3",
   "language": "python",
   "name": "python3"
  },
  "language_info": {
   "codemirror_mode": {
    "name": "ipython",
    "version": 3
   },
   "file_extension": ".py",
   "mimetype": "text/x-python",
   "name": "python",
   "nbconvert_exporter": "python",
   "pygments_lexer": "ipython3",
   "version": "3.8.3"
  }
 },
 "nbformat": 4,
 "nbformat_minor": 4
}
